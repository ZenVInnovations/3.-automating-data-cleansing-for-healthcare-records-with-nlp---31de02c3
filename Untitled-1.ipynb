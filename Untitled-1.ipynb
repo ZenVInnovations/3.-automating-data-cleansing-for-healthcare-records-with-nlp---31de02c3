{
 "cells": [
  {
   "cell_type": "code",
   "execution_count": null,
   "id": "86190d8d",
   "metadata": {},
   "outputs": [
    {
     "ename": "",
     "evalue": "",
     "output_type": "error",
     "traceback": [
      "\u001b[1;31mRunning cells with 'Python 3.12.4' requires the ipykernel package.\n",
      "\u001b[1;31m<a href='command:jupyter.createPythonEnvAndSelectController'>Create a Python Environment</a> with the required packages.\n",
      "\u001b[1;31mOr install 'ipykernel' using the command: '\"c:/Users/Bhanuprakash K N/AppData/Local/Programs/Python/Python312/python.exe\" -m pip install ipykernel -U --user --force-reinstall'"
     ]
    }
   ],
   "source": [
    "import pandas as pd\n",
    "import spacy\n",
    "\n",
    "# Load spaCy model\n",
    "nlp = spacy.load(\"en_core_web_sm\")\n",
    "\n",
    "# Sample test inputs\n",
    "test_data = pd.DataFrame({\n",
    "    'clinical_notes': [\n",
    "        \"Patient suffers from high BP and mild fever.\",\n",
    "        \"No issues reported. Patient is healthy.\",\n",
    "        \"Prescribed 5mg of paracetamol. Follow up after 7 days.\",\n",
    "        \"\",\n",
    "        None\n",
    "    ]\n",
    "})\n",
    "\n",
    "# Define cleaning function\n",
    "def clean_text(text):\n",
    "    if not text or not isinstance(text, str):\n",
    "        return \"\"\n",
    "    doc = nlp(text.lower())\n",
    "    tokens = [token.lemma_ for token in doc if token.is_alpha and not token.is_stop]\n",
    "    return \" \".join(tokens)\n",
    "\n",
    "# Apply cleaning\n",
    "test_data['cleaned_notes'] = test_data['clinical_notes'].apply(clean_text)\n",
    "\n",
    "# Display results\n",
    "print(test_data)\n"
   ]
  }
 ],
 "metadata": {
  "kernelspec": {
   "display_name": "Python 3",
   "language": "python",
   "name": "python3"
  },
  "language_info": {
   "name": "python",
   "version": "3.12.4"
  }
 },
 "nbformat": 4,
 "nbformat_minor": 5
}
